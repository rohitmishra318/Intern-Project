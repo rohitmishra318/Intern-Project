{
 "cells": [
  {
   "cell_type": "code",
   "execution_count": null,
   "id": "cb8b958e-6550-4cf6-ac63-e41095ad3680",
   "metadata": {},
   "outputs": [
    {
     "name": "stdout",
     "output_type": "stream",
     "text": [
      "InfoCrucible News Chatbot. Ask a question about politics, policy, or media bias.\n"
     ]
    },
    {
     "name": "stdin",
     "output_type": "stream",
     "text": [
      "You:  what sparked controversy recently?\n"
     ]
    },
    {
     "name": "stdout",
     "output_type": "stream",
     "text": [
      "Bot: rally\n"
     ]
    },
    {
     "name": "stdin",
     "output_type": "stream",
     "text": [
      "You:  who demanded digital freedom? explain?\n"
     ]
    },
    {
     "name": "stdout",
     "output_type": "stream",
     "text": [
      "Bot: Youth groups\n"
     ]
    }
   ],
   "source": [
    "import torch\n",
    "from transformers import AutoTokenizer, AutoModelForSeq2SeqLM\n",
    "from sentence_transformers import SentenceTransformer\n",
    "import faiss\n",
    "import numpy as np\n",
    "\n",
    "# === Load models ===\n",
    "retriever_model = SentenceTransformer('all-MiniLM-L6-v2')\n",
    "tokenizer = AutoTokenizer.from_pretrained(\"google/flan-t5-base\")\n",
    "generator_model = AutoModelForSeq2SeqLM.from_pretrained(\"google/flan-t5-base\")\n",
    "\n",
    "# === Sample News Knowledge Base (you can extend with real/generated news) ===\n",
    "knowledge_base = [\n",
    "    \"Party A announced major economic reforms aiming to boost the country’s GDP.\",\n",
    "    \"Opposition party claims the government’s plan lacks proper execution strategy.\",\n",
    "    \"The recent rally sparked controversy due to inflammatory remarks by key speakers.\",\n",
    "    \"Youth groups protest against censorship and demand digital freedom.\",\n",
    "    \"Social media influencers are being used to manipulate public opinion, say experts.\"\n",
    "]\n",
    "\n",
    "# === Encode the knowledge base ===\n",
    "doc_embeddings = retriever_model.encode(knowledge_base, convert_to_tensor=True).cpu().detach().numpy()\n",
    "\n",
    "# === Build FAISS index ===\n",
    "dimension = doc_embeddings.shape[1]\n",
    "index = faiss.IndexFlatL2(dimension)\n",
    "index.add(doc_embeddings)\n",
    "\n",
    "# === RAG-based Chat Function ===\n",
    "def rag_chatbot(query, top_k=2):\n",
    "    query_embedding = retriever_model.encode([query], convert_to_tensor=True).cpu().detach().numpy()\n",
    "    distances, indices = index.search(query_embedding, top_k)\n",
    "    \n",
    "    # Retrieve top-k relevant contexts\n",
    "    context = \"\\n\".join([knowledge_base[i] for i in indices[0]])\n",
    "    \n",
    "    # Augment query\n",
    "    augmented_input = f\"Context: {context}\\n\\nQuestion: {query}\"\n",
    "\n",
    "    inputs = tokenizer(augmented_input, return_tensors=\"pt\", truncation=True)\n",
    "    outputs = generator_model.generate(**inputs, max_new_tokens=100)\n",
    "    answer = tokenizer.decode(outputs[0], skip_special_tokens=True)\n",
    "    return answer\n",
    "\n",
    "# === Example usage ===\n",
    "if __name__ == '__main__':\n",
    "    print(\"InfoCrucible News Chatbot. Ask a question about politics, policy, or media bias.\")\n",
    "    while True:\n",
    "        user_input = input(\"You: \")\n",
    "        if user_input.lower() in ['exit', 'quit']: break\n",
    "        response = rag_chatbot(user_input)\n",
    "        print(\"Bot:\", response)\n"
   ]
  },
  {
   "cell_type": "code",
   "execution_count": null,
   "id": "782923fa-68be-4381-a3a7-67678a788f24",
   "metadata": {},
   "outputs": [],
   "source": []
  }
 ],
 "metadata": {
  "kernelspec": {
   "display_name": "Python 3 (ipykernel)",
   "language": "python",
   "name": "python3"
  },
  "language_info": {
   "codemirror_mode": {
    "name": "ipython",
    "version": 3
   },
   "file_extension": ".py",
   "mimetype": "text/x-python",
   "name": "python",
   "nbconvert_exporter": "python",
   "pygments_lexer": "ipython3",
   "version": "3.10.12"
  }
 },
 "nbformat": 4,
 "nbformat_minor": 5
}
