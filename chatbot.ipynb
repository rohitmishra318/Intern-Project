{
 "cells": [
  {
   "cell_type": "code",
   "execution_count": null,
   "id": "00b52ae2-1e46-4dc3-a6cb-db0709ae6124",
   "metadata": {},
   "outputs": [
    {
     "name": "stdout",
     "output_type": "stream",
     "text": [
      "🤖 RAG Fake News Chatbot Ready! Ask about any news topic.\n"
     ]
    }
   ],
   "source": [
    "import torch\n",
    "from transformers import AutoTokenizer, AutoModelForSeq2SeqLM\n",
    "from sentence_transformers import SentenceTransformer\n",
    "import faiss\n",
    "import numpy as np\n",
    "\n",
    "# === Step 1: Load Generator Model (LLM) ===\n",
    "llm_tokenizer = AutoTokenizer.from_pretrained(\"google/flan-t5-base\")\n",
    "llm_model = AutoModelForSeq2SeqLM.from_pretrained(\"google/flan-t5-base\").to(\"cuda\" if torch.cuda.is_available() else \"cpu\")\n",
    "\n",
    "# === Step 2: Load Retriever Model ===\n",
    "retriever_model = SentenceTransformer(\"all-MiniLM-L6-v2\")\n",
    "\n",
    "# === Step 3: Corpus (Fake News Articles from GAN Output or Dataset) ===\n",
    "news_articles = [\n",
    "    \"Party A is a progressive force. It stands for development, reform, and strong leadership. Their agenda emphasizes growth and justice. Many youths show increasing support. Some critics claim the policy is one-sided.\",\n",
    "    \"The government unveiled a new economic strategy. It claims to reduce inflation and create jobs. Experts have mixed reactions. Social media spreads both facts and false claims. Citizens remain divided in opinion.\",\n",
    "    \"Recent rally sparks controversy across the country. Slogans target emotional sentiments. Supporters see hope while others call it misleading. Analysts highlight potential misinformation. Public discourse is at an all-time high.\",\n",
    "    \"Freedom and liberty were the core themes of the new campaign. The speech captivated a huge crowd. Opposition parties criticized it for lacking substance. Debates surged online. Authenticity of claims remains under scrutiny.\",\n",
    "    \"Critics say the new reforms are biased. Youth-targeted ads are misleading. Many posts spread half-truths. Government denies allegations. Media houses cover both sides intensely.\"\n",
    "]\n",
    "\n",
    "# === Step 4: Create FAISS Index ===\n",
    "news_embeddings = retriever_model.encode(news_articles, convert_to_tensor=False)\n",
    "embedding_dim = news_embeddings[0].shape[0]\n",
    "index = faiss.IndexFlatL2(embedding_dim)\n",
    "index.add(np.array(news_embeddings))\n",
    "\n",
    "# === Step 5: RAG Chatbot Function ===\n",
    "def rag_chatbot(user_query, top_k=2):\n",
    "    query_embedding = retriever_model.encode([user_query])[0]\n",
    "    _, indices = index.search(np.array([query_embedding]), top_k)\n",
    "    retrieved_docs = [news_articles[i] for i in indices[0]]\n",
    "\n",
    "    context = \" \".join(retrieved_docs)\n",
    "    prompt = f\"Context: {context}\\n\\nQuestion: {user_query}\\nAnswer:\"\n",
    "    inputs = llm_tokenizer(prompt, return_tensors=\"pt\", truncation=True, padding=True).to(llm_model.device)\n",
    "    \n",
    "    with torch.no_grad():\n",
    "        outputs = llm_model.generate(**inputs, max_new_tokens=150)\n",
    "    \n",
    "    answer = llm_tokenizer.decode(outputs[0], skip_special_tokens=True)\n",
    "    return answer\n",
    "\n",
    "# === Chat Loop ===\n",
    "if __name__ == \"__main__\":\n",
    "    print(\"🤖 RAG Fake News Chatbot Ready! Ask about any news topic.\")\n",
    "    while True:\n",
    "        user_input = input(\"\\n🧑 You: \")\n",
    "        if user_input.lower() in [\"exit\", \"quit\"]:\n",
    "            print(\"👋 Goodbye!\")\n",
    "            break\n",
    "        response = rag_chatbot(user_input)\n",
    "        print(f\"📰 Chatbot: {response}\")\n"
   ]
  },
  {
   "cell_type": "code",
   "execution_count": null,
   "id": "cd4357a1-a704-4ca2-b05c-a5151e9b59a9",
   "metadata": {},
   "outputs": [],
   "source": []
  },
  {
   "cell_type": "code",
   "execution_count": null,
   "id": "5ff605cd-8c86-48a1-bcce-337550a171b4",
   "metadata": {},
   "outputs": [],
   "source": []
  }
 ],
 "metadata": {
  "kernelspec": {
   "display_name": "Python 3 (ipykernel)",
   "language": "python",
   "name": "python3"
  },
  "language_info": {
   "codemirror_mode": {
    "name": "ipython",
    "version": 3
   },
   "file_extension": ".py",
   "mimetype": "text/x-python",
   "name": "python",
   "nbconvert_exporter": "python",
   "pygments_lexer": "ipython3",
   "version": "3.10.12"
  }
 },
 "nbformat": 4,
 "nbformat_minor": 5
}
